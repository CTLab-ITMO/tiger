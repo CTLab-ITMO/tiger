{
 "cells": [
  {
   "cell_type": "code",
   "execution_count": 1,
   "metadata": {},
   "outputs": [],
   "source": [
    "import pandas as pd\n",
    "import torch\n",
    "import json\n",
    "import gzip"
   ]
  },
  {
   "cell_type": "code",
   "execution_count": 3,
   "metadata": {},
   "outputs": [],
   "source": [
    "import random\n",
    "\n",
    "from models import RqVaeModel\n",
    "from rqvae_utils.rqvae_data import get_data\n",
    "\n",
    "data = get_data()"
   ]
  },
  {
   "cell_type": "code",
   "execution_count": null,
   "metadata": {},
   "outputs": [],
   "source": [
    "rqvae = RqVaeModel(\n",
    "    input_dim=embs.shape[1],\n",
    "    hidden_dim=128,\n",
    "    beta=0.25,\n",
    "    codebook_sizes=[256] * 4,\n",
    "    should_init_codebooks=False,\n",
    "    should_reinit_unused_clusters=False,\n",
    ")\n",
    "\n",
    "\n",
    "embs = {\"embedding\": embs.to(device)}\n",
    "\n",
    "rqvae.forward(embs)"
   ]
  },
  {
   "cell_type": "code",
   "execution_count": 29,
   "metadata": {},
   "outputs": [],
   "source": [
    "def get_cb_tuples(embeddings):\n",
    "    ind_lists = []\n",
    "    for cb in rqvae.codebooks:\n",
    "        dist = torch.cdist(rqvae.encoder(embeddings), cb)\n",
    "        ind_lists.append(dist.argmin(dim=-1).cpu().numpy())\n",
    "\n",
    "    return zip(*ind_lists)\n",
    "\n",
    "\n",
    "def search_similar_items(items_with_tuples, clust2search):\n",
    "    random.shuffle(items_with_tuples)\n",
    "    cnt = 0\n",
    "    similars = []\n",
    "    for item, clust_tuple in items_with_tuples:\n",
    "        if clust_tuple[: len(clust2search)] == clust2search:\n",
    "            similars.append((item, clust_tuple))\n",
    "            cnt += 1\n",
    "        if cnt >= 5:\n",
    "            return similars\n",
    "    return similars"
   ]
  },
  {
   "cell_type": "code",
   "execution_count": 30,
   "metadata": {},
   "outputs": [],
   "source": [
    "cb_tuples = get_cb_tuples(embs[\"embedding\"])\n",
    "items_with_tuples = list(zip(df[\"title\"], cb_tuples))"
   ]
  },
  {
   "cell_type": "code",
   "execution_count": null,
   "metadata": {},
   "outputs": [],
   "source": [
    "for i in range(100, 120):\n",
    "    sim = search_similar_items(items_with_tuples, (i,))\n",
    "    if len(sim) == 0:\n",
    "        continue\n",
    "    print(i)\n",
    "    for item, clust_tuple in sim:\n",
    "        print(f\"{item=} {clust_tuple=}\")\n",
    "        \n",
    "# TODO fix collisisons (remainder = last embedding, auto-increment 4th id)"
   ]
  },
  {
   "cell_type": "code",
   "execution_count": null,
   "metadata": {},
   "outputs": [],
   "source": [
    "# Base\n",
    "# tensor(0.0441, grad_fn=<MedianBackward0>)\n",
    "# косинусное расстояние tensor(0.9585)\n",
    "# евклидово расстояние tensor(0.1479)\n",
    "# косинусное расстояние tensor(0.9372) tensor(0.8122) tensor(0.9753)\n",
    "# евклидово расстояние tensor(0.1775) tensor(0.1128) tensor(0.3296)\n",
    "\n",
    "# Large\n",
    "# tensor(0.0018, grad_fn=<MedianBackward0>)\n",
    "# косинусное расстояние tensor(0.9398)\n",
    "# евклидово расстояние tensor(0.1764)\n",
    "# косинусное расстояние tensor(0.9131) tensor(0.7250) tensor(0.9612)\n",
    "# евклидово расстояние tensor(0.2047) tensor(0.1408) tensor(0.3990)\n",
    "\n",
    "# Large V2\n",
    "# tensor(0.0028, grad_fn=<MedianBackward0>)\n",
    "# косинусное расстояние tensor(0.9404)\n",
    "# евклидово расстояние tensor(0.1769)\n",
    "# косинусное расстояние tensor(0.9132) tensor(0.7260) tensor(0.9617)\n",
    "# евклидово расстояние tensor(0.2046) tensor(0.1385) tensor(0.3962)"
   ]
  },
  {
   "cell_type": "code",
   "execution_count": null,
   "metadata": {},
   "outputs": [],
   "source": []
  }
 ],
 "metadata": {
  "kernelspec": {
   "display_name": "gsrec",
   "language": "python",
   "name": "python3"
  },
  "language_info": {
   "codemirror_mode": {
    "name": "ipython",
    "version": 3
   },
   "file_extension": ".py",
   "mimetype": "text/x-python",
   "name": "python",
   "nbconvert_exporter": "python",
   "pygments_lexer": "ipython3",
   "version": "3.11.11"
  }
 },
 "nbformat": 4,
 "nbformat_minor": 2
}
