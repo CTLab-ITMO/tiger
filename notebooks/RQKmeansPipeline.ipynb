{
 "cells": [
  {
   "cell_type": "code",
   "execution_count": null,
   "id": "0ec4d136",
   "metadata": {},
   "outputs": [],
   "source": [
    "from collections import defaultdict\n",
    "\n",
    "import numpy as np\n",
    "import json\n",
    "import pickle\n",
    "\n",
    "from sklearn.cluster import KMeans"
   ]
  },
  {
   "cell_type": "code",
   "execution_count": null,
   "id": "04fe6794",
   "metadata": {},
   "outputs": [],
   "source": [
    "embeddings_input_path = '../data/Beauty/content_embeddings.pkl'\n",
    "semantic_index_output_path = '../data/Beauty/index_rqkmeans.json'"
   ]
  },
  {
   "cell_type": "code",
   "execution_count": null,
   "id": "41927d85",
   "metadata": {},
   "outputs": [],
   "source": [
    "with open(embeddings_input_path, 'rb') as f:\n",
    "    data = pickle.load(f)\n",
    "\n",
    "item_ids = np.array(data['item_id'], dtype=np.int64)\n",
    "X = np.array(data['embedding'], dtype=np.float32)"
   ]
  },
  {
   "cell_type": "code",
   "execution_count": null,
   "id": "0c6bed82",
   "metadata": {},
   "outputs": [],
   "source": [
    "class RQKMeans:\n",
    "    def __init__(\n",
    "            self, \n",
    "            num_clusters, \n",
    "            num_codebooks, \n",
    "            init='k-means++', \n",
    "            max_iter=300, \n",
    "            tol=1e-4, \n",
    "            verbose=0, \n",
    "            random_state=42\n",
    "    ):\n",
    "        self.models = [\n",
    "            KMeans(\n",
    "                n_clusters=num_clusters,\n",
    "                init=init,\n",
    "                max_iter=max_iter,\n",
    "                tol=tol,\n",
    "                verbose=verbose,\n",
    "                random_state=random_state + i,\n",
    "            ) for i in range(num_codebooks)\n",
    "        ]\n",
    "\n",
    "    def fit(self, X, y=None):\n",
    "        for model in self.models:\n",
    "            y = model.fit_predict(X)\n",
    "            X = X - model.cluster_centers_[y]\n",
    "        return self\n",
    "\n",
    "    def predict(self, X):\n",
    "        result = []\n",
    "        centroids = []\n",
    "        for model in self.models:\n",
    "            result.append(model.predict(X))\n",
    "            centroids.append(model.cluster_centers_[result[-1]])\n",
    "            X = X - centroids[-1]\n",
    "        return np.stack(result, axis=-1)"
   ]
  },
  {
   "cell_type": "code",
   "execution_count": null,
   "id": "6a72920c",
   "metadata": {},
   "outputs": [],
   "source": [
    "rq_kmeans = RQKMeans(num_clusters=256, num_codebooks=3, max_iter=1000)"
   ]
  },
  {
   "cell_type": "code",
   "execution_count": null,
   "id": "c6eda38c",
   "metadata": {},
   "outputs": [],
   "source": [
    "rq_kmeans.fit(X)"
   ]
  },
  {
   "cell_type": "code",
   "execution_count": null,
   "id": "aec1bb9e",
   "metadata": {},
   "outputs": [],
   "source": [
    "clusters = rq_kmeans.predict(X)"
   ]
  },
  {
   "cell_type": "code",
   "execution_count": null,
   "id": "c6dc4cf5",
   "metadata": {},
   "outputs": [],
   "source": [
    "# Create semantics mapping\n",
    "inter = {}\n",
    "sem_2_ids = defaultdict(list)\n",
    "for idx, clusters in zip(item_ids, clusters):\n",
    "    inter[int(idx)] = clusters.tolist()\n",
    "    sem_2_ids[tuple(clusters.tolist())].append(int(idx))\n",
    "\n",
    "# Solve collistions\n",
    "for semantics, item_ids in sem_2_ids.items():\n",
    "    assert len(item_ids) <= 256\n",
    "    collision_solvers = np.random.permutation(256)[:len(item_ids)].tolist()\n",
    "    for item_id, collision_solver in zip(item_ids, collision_solvers):\n",
    "        inter[item_id].append(collision_solver)\n",
    "    \n",
    "# Save semantics\n",
    "with open(semantic_index_output_path, 'w') as f:\n",
    "    json.dump(inter, f)"
   ]
  }
 ],
 "metadata": {
  "kernelspec": {
   "display_name": "yrec",
   "language": "python",
   "name": "python3"
  },
  "language_info": {
   "codemirror_mode": {
    "name": "ipython",
    "version": 3
   },
   "file_extension": ".py",
   "mimetype": "text/x-python",
   "name": "python",
   "nbconvert_exporter": "python",
   "pygments_lexer": "ipython3",
   "version": "3.12.9"
  }
 },
 "nbformat": 4,
 "nbformat_minor": 5
}
